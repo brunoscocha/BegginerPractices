{
 "cells": [
  {
   "cell_type": "code",
   "execution_count": 128,
   "id": "0583f321",
   "metadata": {},
   "outputs": [],
   "source": [
    "import numpy as np\n",
    "import pandas as pd\n",
    "import matplotlib.pyplot as plt"
   ]
  },
  {
   "cell_type": "code",
   "execution_count": 129,
   "id": "89d6019e",
   "metadata": {},
   "outputs": [
    {
     "data": {
      "text/html": [
       "<div>\n",
       "<style scoped>\n",
       "    .dataframe tbody tr th:only-of-type {\n",
       "        vertical-align: middle;\n",
       "    }\n",
       "\n",
       "    .dataframe tbody tr th {\n",
       "        vertical-align: top;\n",
       "    }\n",
       "\n",
       "    .dataframe thead th {\n",
       "        text-align: right;\n",
       "    }\n",
       "</style>\n",
       "<table border=\"1\" class=\"dataframe\">\n",
       "  <thead>\n",
       "    <tr style=\"text-align: right;\">\n",
       "      <th></th>\n",
       "      <th>Region</th>\n",
       "      <th>Country</th>\n",
       "      <th>Item Type</th>\n",
       "      <th>Sales Channel</th>\n",
       "      <th>Order Priority</th>\n",
       "      <th>Order Date</th>\n",
       "      <th>Order ID</th>\n",
       "      <th>Ship Date</th>\n",
       "      <th>Units Sold</th>\n",
       "      <th>Unit Price</th>\n",
       "      <th>Unit Cost</th>\n",
       "      <th>Total Revenue</th>\n",
       "      <th>Total Cost</th>\n",
       "      <th>Total Profit</th>\n",
       "    </tr>\n",
       "  </thead>\n",
       "  <tbody>\n",
       "    <tr>\n",
       "      <th>0</th>\n",
       "      <td>Central America and the Caribbean</td>\n",
       "      <td>Antigua and Barbuda</td>\n",
       "      <td>Baby Food</td>\n",
       "      <td>Online</td>\n",
       "      <td>M</td>\n",
       "      <td>12/20/2013</td>\n",
       "      <td>957081544</td>\n",
       "      <td>1/11/2014</td>\n",
       "      <td>552</td>\n",
       "      <td>255.28</td>\n",
       "      <td>159.42</td>\n",
       "      <td>140914.56</td>\n",
       "      <td>87999.84</td>\n",
       "      <td>52914.72</td>\n",
       "    </tr>\n",
       "    <tr>\n",
       "      <th>1</th>\n",
       "      <td>Central America and the Caribbean</td>\n",
       "      <td>Panama</td>\n",
       "      <td>Snacks</td>\n",
       "      <td>Offline</td>\n",
       "      <td>C</td>\n",
       "      <td>7/5/2010</td>\n",
       "      <td>301644504</td>\n",
       "      <td>7/26/2010</td>\n",
       "      <td>2167</td>\n",
       "      <td>152.58</td>\n",
       "      <td>97.44</td>\n",
       "      <td>330640.86</td>\n",
       "      <td>211152.48</td>\n",
       "      <td>119488.38</td>\n",
       "    </tr>\n",
       "    <tr>\n",
       "      <th>2</th>\n",
       "      <td>Europe</td>\n",
       "      <td>Czech Republic</td>\n",
       "      <td>Beverages</td>\n",
       "      <td>Offline</td>\n",
       "      <td>C</td>\n",
       "      <td>9/12/2011</td>\n",
       "      <td>478051030</td>\n",
       "      <td>9/29/2011</td>\n",
       "      <td>4778</td>\n",
       "      <td>47.45</td>\n",
       "      <td>31.79</td>\n",
       "      <td>226716.10</td>\n",
       "      <td>151892.62</td>\n",
       "      <td>74823.48</td>\n",
       "    </tr>\n",
       "    <tr>\n",
       "      <th>3</th>\n",
       "      <td>Asia</td>\n",
       "      <td>North Korea</td>\n",
       "      <td>Cereal</td>\n",
       "      <td>Offline</td>\n",
       "      <td>L</td>\n",
       "      <td>5/13/2010</td>\n",
       "      <td>892599952</td>\n",
       "      <td>6/15/2010</td>\n",
       "      <td>9016</td>\n",
       "      <td>205.70</td>\n",
       "      <td>117.11</td>\n",
       "      <td>1854591.20</td>\n",
       "      <td>1055863.76</td>\n",
       "      <td>798727.44</td>\n",
       "    </tr>\n",
       "    <tr>\n",
       "      <th>4</th>\n",
       "      <td>Asia</td>\n",
       "      <td>Sri Lanka</td>\n",
       "      <td>Snacks</td>\n",
       "      <td>Offline</td>\n",
       "      <td>C</td>\n",
       "      <td>7/20/2015</td>\n",
       "      <td>571902596</td>\n",
       "      <td>7/27/2015</td>\n",
       "      <td>7542</td>\n",
       "      <td>152.58</td>\n",
       "      <td>97.44</td>\n",
       "      <td>1150758.36</td>\n",
       "      <td>734892.48</td>\n",
       "      <td>415865.88</td>\n",
       "    </tr>\n",
       "  </tbody>\n",
       "</table>\n",
       "</div>"
      ],
      "text/plain": [
       "                              Region               Country  Item Type  \\\n",
       "0  Central America and the Caribbean  Antigua and Barbuda   Baby Food   \n",
       "1  Central America and the Caribbean                Panama     Snacks   \n",
       "2                             Europe        Czech Republic  Beverages   \n",
       "3                               Asia           North Korea     Cereal   \n",
       "4                               Asia             Sri Lanka     Snacks   \n",
       "\n",
       "  Sales Channel Order Priority  Order Date   Order ID  Ship Date  Units Sold  \\\n",
       "0        Online              M  12/20/2013  957081544  1/11/2014         552   \n",
       "1       Offline              C    7/5/2010  301644504  7/26/2010        2167   \n",
       "2       Offline              C   9/12/2011  478051030  9/29/2011        4778   \n",
       "3       Offline              L   5/13/2010  892599952  6/15/2010        9016   \n",
       "4       Offline              C   7/20/2015  571902596  7/27/2015        7542   \n",
       "\n",
       "   Unit Price  Unit Cost  Total Revenue  Total Cost  Total Profit  \n",
       "0      255.28     159.42      140914.56    87999.84      52914.72  \n",
       "1      152.58      97.44      330640.86   211152.48     119488.38  \n",
       "2       47.45      31.79      226716.10   151892.62      74823.48  \n",
       "3      205.70     117.11     1854591.20  1055863.76     798727.44  \n",
       "4      152.58      97.44     1150758.36   734892.48     415865.88  "
      ]
     },
     "execution_count": 129,
     "metadata": {},
     "output_type": "execute_result"
    }
   ],
   "source": [
    "sales_sample = pd.read_csv('5000 Sales Records.csv')\n",
    "\n",
    "sales_sample.head()"
   ]
  },
  {
   "cell_type": "markdown",
   "id": "071afc4e",
   "metadata": {},
   "source": [
    "## Entendendo a Base de Dados"
   ]
  },
  {
   "cell_type": "code",
   "execution_count": 130,
   "id": "213a7cbc",
   "metadata": {
    "scrolled": true
   },
   "outputs": [
    {
     "data": {
      "text/plain": [
       "array(['Central America and the Caribbean', 'Europe', 'Asia',\n",
       "       'Middle East and North Africa', 'Australia and Oceania',\n",
       "       'Sub-Saharan Africa', 'North America'], dtype=object)"
      ]
     },
     "execution_count": 130,
     "metadata": {},
     "output_type": "execute_result"
    }
   ],
   "source": [
    "sales_sample['Region'].unique() #Conferindo as regiões da base"
   ]
  },
  {
   "cell_type": "code",
   "execution_count": 131,
   "id": "92c3d76f",
   "metadata": {},
   "outputs": [
    {
     "data": {
      "text/plain": [
       "array(['Online', 'Offline'], dtype=object)"
      ]
     },
     "execution_count": 131,
     "metadata": {},
     "output_type": "execute_result"
    }
   ],
   "source": [
    "sales_sample['Sales Channel'].unique() #Conferindo os tipos de venda"
   ]
  },
  {
   "cell_type": "code",
   "execution_count": 132,
   "id": "b05ec8b5",
   "metadata": {
    "scrolled": true
   },
   "outputs": [
    {
     "data": {
      "text/plain": [
       "6628689208.54"
      ]
     },
     "execution_count": 132,
     "metadata": {},
     "output_type": "execute_result"
    }
   ],
   "source": [
    "sales_sample['Total Revenue'].sum() #Descobrindo o valor total de vendas"
   ]
  },
  {
   "cell_type": "code",
   "execution_count": 133,
   "id": "5672bab9",
   "metadata": {},
   "outputs": [
    {
     "data": {
      "text/plain": [
       "array(['Baby Food', 'Snacks', 'Beverages', 'Cereal', 'Personal Care',\n",
       "       'Clothes', 'Office Supplies', 'Cosmetics', 'Meat', 'Fruits',\n",
       "       'Vegetables', 'Household'], dtype=object)"
      ]
     },
     "execution_count": 133,
     "metadata": {},
     "output_type": "execute_result"
    }
   ],
   "source": [
    "sales_sample['Item Type'].unique()"
   ]
  },
  {
   "cell_type": "markdown",
   "id": "725eb1c9",
   "metadata": {},
   "source": [
    "## Organizing the Data"
   ]
  },
  {
   "cell_type": "code",
   "execution_count": 134,
   "id": "4e00c277",
   "metadata": {
    "scrolled": false
   },
   "outputs": [],
   "source": [
    "#sales_sample['Unit Price', 'Unit Cost', 'Total Revenue', 'Total Cost'].format(':.2f')\n",
    "#sales_sample.head()"
   ]
  },
  {
   "cell_type": "markdown",
   "id": "723d0a3a",
   "metadata": {},
   "source": [
    "## Data Analysis\n"
   ]
  },
  {
   "cell_type": "code",
   "execution_count": 135,
   "id": "e5524235",
   "metadata": {},
   "outputs": [
    {
     "data": {
      "text/plain": [
       "Region\n",
       "Asia                                 9.202771e+08\n",
       "Australia and Oceania                5.873641e+08\n",
       "Central America and the Caribbean    6.849763e+08\n",
       "Europe                               1.703622e+09\n",
       "Middle East and North Africa         7.668678e+08\n",
       "North America                        1.510143e+08\n",
       "Sub-Saharan Africa                   1.814567e+09\n",
       "Name: Total Revenue, dtype: float64"
      ]
     },
     "execution_count": 135,
     "metadata": {},
     "output_type": "execute_result"
    }
   ],
   "source": [
    "revenue_per_region = sales_sample.groupby('Region')['Total Revenue'].sum() #Somando o Total de vendas por Região\n",
    "\n",
    "revenue_per_region"
   ]
  },
  {
   "cell_type": "code",
   "execution_count": 136,
   "id": "7fccce4b",
   "metadata": {
    "scrolled": true
   },
   "outputs": [
    {
     "data": {
      "text/plain": [
       "Region\n",
       "Asia                                 6.420394e+08\n",
       "Australia and Oceania                4.124295e+08\n",
       "Central America and the Caribbean    4.803643e+08\n",
       "Europe                               1.201946e+09\n",
       "Middle East and North Africa         5.354875e+08\n",
       "North America                        1.097739e+08\n",
       "Sub-Saharan Africa                   1.283425e+09\n",
       "Name: Total Cost, dtype: float64"
      ]
     },
     "execution_count": 136,
     "metadata": {},
     "output_type": "execute_result"
    }
   ],
   "source": [
    "cost_per_region = sales_sample.groupby('Region')['Total Cost'].sum() #Custo total por Região\n",
    "\n",
    "cost_per_region"
   ]
  },
  {
   "cell_type": "code",
   "execution_count": 137,
   "id": "7b0e3fc1",
   "metadata": {},
   "outputs": [
    {
     "data": {
      "text/plain": [
       "Region              Item Type      \n",
       "Asia                Baby Food          8.608807e+07\n",
       "                    Beverages          1.598220e+07\n",
       "                    Cereal             6.213498e+07\n",
       "                    Clothes            3.283766e+07\n",
       "                    Cosmetics          1.260924e+08\n",
       "                                           ...     \n",
       "Sub-Saharan Africa  Meat               1.978571e+08\n",
       "                    Office Supplies    4.070525e+08\n",
       "                    Personal Care      4.826598e+07\n",
       "                    Snacks             7.917925e+07\n",
       "                    Vegetables         7.912645e+07\n",
       "Name: Total Revenue, Length: 84, dtype: float64"
      ]
     },
     "execution_count": 137,
     "metadata": {},
     "output_type": "execute_result"
    }
   ],
   "source": [
    "revenue_region_item = sales_sample.groupby(['Region', 'Item Type'])['Total Revenue'].sum() #Faturamento total por Região e produto\n",
    "revenue_region_item"
   ]
  },
  {
   "cell_type": "code",
   "execution_count": 138,
   "id": "e9603a96",
   "metadata": {
    "scrolled": false
   },
   "outputs": [
    {
     "data": {
      "text/plain": [
       "0       37.550924\n",
       "1       36.138419\n",
       "2       33.003161\n",
       "3       43.067574\n",
       "4       36.138419\n",
       "          ...    \n",
       "4995    24.799856\n",
       "4996    67.203514\n",
       "4997    37.550924\n",
       "4998    67.203514\n",
       "4999    40.977541\n",
       "Length: 5000, dtype: float64"
      ]
     },
     "execution_count": 138,
     "metadata": {},
     "output_type": "execute_result"
    }
   ],
   "source": [
    "margin_per_row = sales_sample['Total Profit']/sales_sample['Total Revenue'] * 100 #margem por linha\n",
    "\n",
    "margin_per_row"
   ]
  },
  {
   "cell_type": "code",
   "execution_count": 139,
   "id": "fdacee49",
   "metadata": {},
   "outputs": [
    {
     "data": {
      "text/html": [
       "<div>\n",
       "<style scoped>\n",
       "    .dataframe tbody tr th:only-of-type {\n",
       "        vertical-align: middle;\n",
       "    }\n",
       "\n",
       "    .dataframe tbody tr th {\n",
       "        vertical-align: top;\n",
       "    }\n",
       "\n",
       "    .dataframe thead th {\n",
       "        text-align: right;\n",
       "    }\n",
       "</style>\n",
       "<table border=\"1\" class=\"dataframe\">\n",
       "  <thead>\n",
       "    <tr style=\"text-align: right;\">\n",
       "      <th></th>\n",
       "      <th>Region</th>\n",
       "      <th>Country</th>\n",
       "      <th>Item Type</th>\n",
       "      <th>Sales Channel</th>\n",
       "      <th>Order Priority</th>\n",
       "      <th>Order Date</th>\n",
       "      <th>Order ID</th>\n",
       "      <th>Ship Date</th>\n",
       "      <th>Units Sold</th>\n",
       "      <th>Unit Price</th>\n",
       "      <th>Unit Cost</th>\n",
       "      <th>Total Revenue</th>\n",
       "      <th>Total Cost</th>\n",
       "      <th>Total Profit</th>\n",
       "      <th>Margin</th>\n",
       "    </tr>\n",
       "  </thead>\n",
       "  <tbody>\n",
       "    <tr>\n",
       "      <th>0</th>\n",
       "      <td>Central America and the Caribbean</td>\n",
       "      <td>Antigua and Barbuda</td>\n",
       "      <td>Baby Food</td>\n",
       "      <td>Online</td>\n",
       "      <td>M</td>\n",
       "      <td>12/20/2013</td>\n",
       "      <td>957081544</td>\n",
       "      <td>1/11/2014</td>\n",
       "      <td>552</td>\n",
       "      <td>255.28</td>\n",
       "      <td>159.42</td>\n",
       "      <td>140914.56</td>\n",
       "      <td>87999.84</td>\n",
       "      <td>52914.72</td>\n",
       "      <td>37.550924</td>\n",
       "    </tr>\n",
       "    <tr>\n",
       "      <th>1</th>\n",
       "      <td>Central America and the Caribbean</td>\n",
       "      <td>Panama</td>\n",
       "      <td>Snacks</td>\n",
       "      <td>Offline</td>\n",
       "      <td>C</td>\n",
       "      <td>7/5/2010</td>\n",
       "      <td>301644504</td>\n",
       "      <td>7/26/2010</td>\n",
       "      <td>2167</td>\n",
       "      <td>152.58</td>\n",
       "      <td>97.44</td>\n",
       "      <td>330640.86</td>\n",
       "      <td>211152.48</td>\n",
       "      <td>119488.38</td>\n",
       "      <td>36.138419</td>\n",
       "    </tr>\n",
       "    <tr>\n",
       "      <th>2</th>\n",
       "      <td>Europe</td>\n",
       "      <td>Czech Republic</td>\n",
       "      <td>Beverages</td>\n",
       "      <td>Offline</td>\n",
       "      <td>C</td>\n",
       "      <td>9/12/2011</td>\n",
       "      <td>478051030</td>\n",
       "      <td>9/29/2011</td>\n",
       "      <td>4778</td>\n",
       "      <td>47.45</td>\n",
       "      <td>31.79</td>\n",
       "      <td>226716.10</td>\n",
       "      <td>151892.62</td>\n",
       "      <td>74823.48</td>\n",
       "      <td>33.003161</td>\n",
       "    </tr>\n",
       "    <tr>\n",
       "      <th>3</th>\n",
       "      <td>Asia</td>\n",
       "      <td>North Korea</td>\n",
       "      <td>Cereal</td>\n",
       "      <td>Offline</td>\n",
       "      <td>L</td>\n",
       "      <td>5/13/2010</td>\n",
       "      <td>892599952</td>\n",
       "      <td>6/15/2010</td>\n",
       "      <td>9016</td>\n",
       "      <td>205.70</td>\n",
       "      <td>117.11</td>\n",
       "      <td>1854591.20</td>\n",
       "      <td>1055863.76</td>\n",
       "      <td>798727.44</td>\n",
       "      <td>43.067574</td>\n",
       "    </tr>\n",
       "    <tr>\n",
       "      <th>4</th>\n",
       "      <td>Asia</td>\n",
       "      <td>Sri Lanka</td>\n",
       "      <td>Snacks</td>\n",
       "      <td>Offline</td>\n",
       "      <td>C</td>\n",
       "      <td>7/20/2015</td>\n",
       "      <td>571902596</td>\n",
       "      <td>7/27/2015</td>\n",
       "      <td>7542</td>\n",
       "      <td>152.58</td>\n",
       "      <td>97.44</td>\n",
       "      <td>1150758.36</td>\n",
       "      <td>734892.48</td>\n",
       "      <td>415865.88</td>\n",
       "      <td>36.138419</td>\n",
       "    </tr>\n",
       "  </tbody>\n",
       "</table>\n",
       "</div>"
      ],
      "text/plain": [
       "                              Region               Country  Item Type  \\\n",
       "0  Central America and the Caribbean  Antigua and Barbuda   Baby Food   \n",
       "1  Central America and the Caribbean                Panama     Snacks   \n",
       "2                             Europe        Czech Republic  Beverages   \n",
       "3                               Asia           North Korea     Cereal   \n",
       "4                               Asia             Sri Lanka     Snacks   \n",
       "\n",
       "  Sales Channel Order Priority  Order Date   Order ID  Ship Date  Units Sold  \\\n",
       "0        Online              M  12/20/2013  957081544  1/11/2014         552   \n",
       "1       Offline              C    7/5/2010  301644504  7/26/2010        2167   \n",
       "2       Offline              C   9/12/2011  478051030  9/29/2011        4778   \n",
       "3       Offline              L   5/13/2010  892599952  6/15/2010        9016   \n",
       "4       Offline              C   7/20/2015  571902596  7/27/2015        7542   \n",
       "\n",
       "   Unit Price  Unit Cost  Total Revenue  Total Cost  Total Profit     Margin  \n",
       "0      255.28     159.42      140914.56    87999.84      52914.72  37.550924  \n",
       "1      152.58      97.44      330640.86   211152.48     119488.38  36.138419  \n",
       "2       47.45      31.79      226716.10   151892.62      74823.48  33.003161  \n",
       "3      205.70     117.11     1854591.20  1055863.76     798727.44  43.067574  \n",
       "4      152.58      97.44     1150758.36   734892.48     415865.88  36.138419  "
      ]
     },
     "execution_count": 139,
     "metadata": {},
     "output_type": "execute_result"
    }
   ],
   "source": [
    "new_sales_sample = pd.concat(objs= [sales_sample, margin_per_row], axis=1, join='outer', ignore_index=False, keys=None, levels=None, names=None, verify_integrity=False, sort=False, copy=True)\n",
    "new_sales_sample.rename(columns ={0: 'Margin'}, inplace=True) \n",
    "\n",
    "\n",
    "new_sales_sample.head()\n",
    "\n",
    "#adicionando a coluna de Margem ao DF para ser mais fácila grupar por região!"
   ]
  },
  {
   "cell_type": "code",
   "execution_count": 140,
   "id": "efc0bd3e",
   "metadata": {
    "scrolled": true
   },
   "outputs": [
    {
     "data": {
      "text/plain": [
       "Region\n",
       "Sub-Saharan Africa                   5.311423e+08\n",
       "Europe                               5.016760e+08\n",
       "Asia                                 2.782377e+08\n",
       "Middle East and North Africa         2.313803e+08\n",
       "Central America and the Caribbean    2.046120e+08\n",
       "Australia and Oceania                1.749346e+08\n",
       "North America                        4.124040e+07\n",
       "dtype: float64"
      ]
     },
     "execution_count": 140,
     "metadata": {},
     "output_type": "execute_result"
    }
   ],
   "source": [
    "calcs = revenue_per_region - cost_per_region\n",
    "\n",
    "calcs.sort_values(ascending=False)   #aqui eu cheguei no LUCRO por região\n",
    "\n",
    "#A AÉRA QUE DEU MAIS LUCRO FOI ÁFRICA SUBSAARIANA"
   ]
  },
  {
   "cell_type": "markdown",
   "id": "b3e2e4ca",
   "metadata": {},
   "source": [
    "##### The most profitable area is Sub-Saharan Africa  \n"
   ]
  },
  {
   "cell_type": "code",
   "execution_count": 141,
   "id": "5440e319",
   "metadata": {
    "scrolled": false
   },
   "outputs": [
    {
     "data": {
      "text/plain": [
       "Region\n",
       "Asia                                 30.234118\n",
       "Middle East and North Africa         30.172124\n",
       "Central America and the Caribbean    29.871394\n",
       "Australia and Oceania                29.782987\n",
       "Europe                               29.447608\n",
       "Sub-Saharan Africa                   29.271015\n",
       "North America                        27.308944\n",
       "dtype: float64"
      ]
     },
     "execution_count": 141,
     "metadata": {},
     "output_type": "execute_result"
    }
   ],
   "source": [
    "margin_per_region = calcs/revenue_per_region * 100\n",
    "\n",
    "margin_per_region.sort_values(ascending=False)\n",
    "\n",
    "#A AÉRA QUE COM A MAIOR MARGEM É ASIA"
   ]
  },
  {
   "cell_type": "markdown",
   "id": "f99ebf25",
   "metadata": {},
   "source": [
    "##### Asia has the largest margin\n"
   ]
  },
  {
   "cell_type": "code",
   "execution_count": 142,
   "id": "7b02ba53",
   "metadata": {
    "scrolled": true
   },
   "outputs": [
    {
     "data": {
      "text/plain": [
       "Item Type\n",
       "Fruits             2341083\n",
       "Baby Food          2274921\n",
       "Beverages          2208169\n",
       "Cosmetics          2141909\n",
       "Personal Care      2134895\n",
       "Office Supplies    2107628\n",
       "Household          2099238\n",
       "Vegetables         2090330\n",
       "Clothes            1983445\n",
       "Cereal             1949601\n",
       "Snacks             1921075\n",
       "Meat               1901197\n",
       "Name: Units Sold, dtype: int64"
      ]
     },
     "execution_count": 142,
     "metadata": {},
     "output_type": "execute_result"
    }
   ],
   "source": [
    "most_sold_item = new_sales_sample.groupby('Item Type')['Units Sold'].sum()\n",
    "\n",
    "most_sold_item.sort_values(ascending=False)"
   ]
  },
  {
   "cell_type": "markdown",
   "id": "ad35e99c",
   "metadata": {},
   "source": [
    "#### The most sold item was Fruit"
   ]
  },
  {
   "cell_type": "code",
   "execution_count": 143,
   "id": "7adcb296",
   "metadata": {},
   "outputs": [
    {
     "data": {
      "text/plain": [
       "Offline    50.08\n",
       "Online     49.92\n",
       "Name: Sales Channel, dtype: float64"
      ]
     },
     "execution_count": 143,
     "metadata": {},
     "output_type": "execute_result"
    }
   ],
   "source": [
    "type_of_sell = new_sales_sample['Sales Channel'].value_counts() / new_sales_sample['Sales Channel'].count() * 100\n",
    " \n",
    "type_of_sell"
   ]
  },
  {
   "cell_type": "markdown",
   "id": "7950259a",
   "metadata": {},
   "source": [
    "#### 50,08% were offline, the reste (49,92%) were online"
   ]
  },
  {
   "cell_type": "code",
   "execution_count": 194,
   "id": "2ce5f58f",
   "metadata": {
    "scrolled": true
   },
   "outputs": [],
   "source": [
    "#ajustando o formato da data para a análise que preciso fazer!\n",
    "\n",
    "year_of_sells = new_sales_sample['Order Date'].str.split('/', expand=True)\n",
    "\n",
    "year_of_sells.columns\n",
    "year_of_sells.rename(columns={0: 'Dia', 1: 'Mês', 2: 'Ano'}, inplace=True)\n"
   ]
  },
  {
   "cell_type": "code",
   "execution_count": 145,
   "id": "d11d9abd",
   "metadata": {},
   "outputs": [
    {
     "data": {
      "text/plain": [
       "Index(['Region', 'Country', 'Item Type', 'Sales Channel', 'Order Priority',\n",
       "       'Order Date', 'Order ID', 'Ship Date', 'Units Sold', 'Unit Price',\n",
       "       'Unit Cost', 'Total Revenue', 'Total Cost', 'Total Profit', 'Margin',\n",
       "       'Dia', 'Mês', 'Ano'],\n",
       "      dtype='object')"
      ]
     },
     "execution_count": 145,
     "metadata": {},
     "output_type": "execute_result"
    }
   ],
   "source": [
    "final_sample =  pd.concat(objs = [new_sales_sample, year_of_sells], axis=1, ignore_index=False) #Unindo os dois DFs\n",
    "\n",
    "final_sample.columns"
   ]
  },
  {
   "cell_type": "code",
   "execution_count": 146,
   "id": "c2c17c56",
   "metadata": {
    "scrolled": false
   },
   "outputs": [
    {
     "data": {
      "text/html": [
       "<div>\n",
       "<style scoped>\n",
       "    .dataframe tbody tr th:only-of-type {\n",
       "        vertical-align: middle;\n",
       "    }\n",
       "\n",
       "    .dataframe tbody tr th {\n",
       "        vertical-align: top;\n",
       "    }\n",
       "\n",
       "    .dataframe thead th {\n",
       "        text-align: right;\n",
       "    }\n",
       "</style>\n",
       "<table border=\"1\" class=\"dataframe\">\n",
       "  <thead>\n",
       "    <tr style=\"text-align: right;\">\n",
       "      <th></th>\n",
       "      <th>Region</th>\n",
       "      <th>Country</th>\n",
       "      <th>Item Type</th>\n",
       "      <th>Sales Channel</th>\n",
       "      <th>Order Priority</th>\n",
       "      <th>Order Date</th>\n",
       "      <th>Dia</th>\n",
       "      <th>Mês</th>\n",
       "      <th>Ano</th>\n",
       "      <th>Order ID</th>\n",
       "      <th>Ship Date</th>\n",
       "      <th>Units Sold</th>\n",
       "      <th>Unit Price</th>\n",
       "      <th>Unit Cost</th>\n",
       "      <th>Total Revenue</th>\n",
       "      <th>Total Cost</th>\n",
       "      <th>Total Profit</th>\n",
       "      <th>Margin</th>\n",
       "    </tr>\n",
       "  </thead>\n",
       "  <tbody>\n",
       "    <tr>\n",
       "      <th>0</th>\n",
       "      <td>Central America and the Caribbean</td>\n",
       "      <td>Antigua and Barbuda</td>\n",
       "      <td>Baby Food</td>\n",
       "      <td>Online</td>\n",
       "      <td>M</td>\n",
       "      <td>12/20/2013</td>\n",
       "      <td>12</td>\n",
       "      <td>20</td>\n",
       "      <td>2013</td>\n",
       "      <td>957081544</td>\n",
       "      <td>1/11/2014</td>\n",
       "      <td>552</td>\n",
       "      <td>255.28</td>\n",
       "      <td>159.42</td>\n",
       "      <td>140914.56</td>\n",
       "      <td>87999.84</td>\n",
       "      <td>52914.72</td>\n",
       "      <td>37.550924</td>\n",
       "    </tr>\n",
       "    <tr>\n",
       "      <th>1</th>\n",
       "      <td>Central America and the Caribbean</td>\n",
       "      <td>Panama</td>\n",
       "      <td>Snacks</td>\n",
       "      <td>Offline</td>\n",
       "      <td>C</td>\n",
       "      <td>7/5/2010</td>\n",
       "      <td>7</td>\n",
       "      <td>5</td>\n",
       "      <td>2010</td>\n",
       "      <td>301644504</td>\n",
       "      <td>7/26/2010</td>\n",
       "      <td>2167</td>\n",
       "      <td>152.58</td>\n",
       "      <td>97.44</td>\n",
       "      <td>330640.86</td>\n",
       "      <td>211152.48</td>\n",
       "      <td>119488.38</td>\n",
       "      <td>36.138419</td>\n",
       "    </tr>\n",
       "    <tr>\n",
       "      <th>2</th>\n",
       "      <td>Europe</td>\n",
       "      <td>Czech Republic</td>\n",
       "      <td>Beverages</td>\n",
       "      <td>Offline</td>\n",
       "      <td>C</td>\n",
       "      <td>9/12/2011</td>\n",
       "      <td>9</td>\n",
       "      <td>12</td>\n",
       "      <td>2011</td>\n",
       "      <td>478051030</td>\n",
       "      <td>9/29/2011</td>\n",
       "      <td>4778</td>\n",
       "      <td>47.45</td>\n",
       "      <td>31.79</td>\n",
       "      <td>226716.10</td>\n",
       "      <td>151892.62</td>\n",
       "      <td>74823.48</td>\n",
       "      <td>33.003161</td>\n",
       "    </tr>\n",
       "    <tr>\n",
       "      <th>3</th>\n",
       "      <td>Asia</td>\n",
       "      <td>North Korea</td>\n",
       "      <td>Cereal</td>\n",
       "      <td>Offline</td>\n",
       "      <td>L</td>\n",
       "      <td>5/13/2010</td>\n",
       "      <td>5</td>\n",
       "      <td>13</td>\n",
       "      <td>2010</td>\n",
       "      <td>892599952</td>\n",
       "      <td>6/15/2010</td>\n",
       "      <td>9016</td>\n",
       "      <td>205.70</td>\n",
       "      <td>117.11</td>\n",
       "      <td>1854591.20</td>\n",
       "      <td>1055863.76</td>\n",
       "      <td>798727.44</td>\n",
       "      <td>43.067574</td>\n",
       "    </tr>\n",
       "    <tr>\n",
       "      <th>4</th>\n",
       "      <td>Asia</td>\n",
       "      <td>Sri Lanka</td>\n",
       "      <td>Snacks</td>\n",
       "      <td>Offline</td>\n",
       "      <td>C</td>\n",
       "      <td>7/20/2015</td>\n",
       "      <td>7</td>\n",
       "      <td>20</td>\n",
       "      <td>2015</td>\n",
       "      <td>571902596</td>\n",
       "      <td>7/27/2015</td>\n",
       "      <td>7542</td>\n",
       "      <td>152.58</td>\n",
       "      <td>97.44</td>\n",
       "      <td>1150758.36</td>\n",
       "      <td>734892.48</td>\n",
       "      <td>415865.88</td>\n",
       "      <td>36.138419</td>\n",
       "    </tr>\n",
       "  </tbody>\n",
       "</table>\n",
       "</div>"
      ],
      "text/plain": [
       "                              Region               Country  Item Type  \\\n",
       "0  Central America and the Caribbean  Antigua and Barbuda   Baby Food   \n",
       "1  Central America and the Caribbean                Panama     Snacks   \n",
       "2                             Europe        Czech Republic  Beverages   \n",
       "3                               Asia           North Korea     Cereal   \n",
       "4                               Asia             Sri Lanka     Snacks   \n",
       "\n",
       "  Sales Channel Order Priority  Order Date Dia Mês   Ano   Order ID  \\\n",
       "0        Online              M  12/20/2013  12  20  2013  957081544   \n",
       "1       Offline              C    7/5/2010   7   5  2010  301644504   \n",
       "2       Offline              C   9/12/2011   9  12  2011  478051030   \n",
       "3       Offline              L   5/13/2010   5  13  2010  892599952   \n",
       "4       Offline              C   7/20/2015   7  20  2015  571902596   \n",
       "\n",
       "   Ship Date  Units Sold  Unit Price  Unit Cost  Total Revenue  Total Cost  \\\n",
       "0  1/11/2014         552      255.28     159.42      140914.56    87999.84   \n",
       "1  7/26/2010        2167      152.58      97.44      330640.86   211152.48   \n",
       "2  9/29/2011        4778       47.45      31.79      226716.10   151892.62   \n",
       "3  6/15/2010        9016      205.70     117.11     1854591.20  1055863.76   \n",
       "4  7/27/2015        7542      152.58      97.44     1150758.36   734892.48   \n",
       "\n",
       "   Total Profit     Margin  \n",
       "0      52914.72  37.550924  \n",
       "1     119488.38  36.138419  \n",
       "2      74823.48  33.003161  \n",
       "3     798727.44  43.067574  \n",
       "4     415865.88  36.138419  "
      ]
     },
     "execution_count": 146,
     "metadata": {},
     "output_type": "execute_result"
    }
   ],
   "source": [
    "cols = ['Region', 'Country', 'Item Type', 'Sales Channel', 'Order Priority',\n",
    "       'Order Date','Dia', 'Mês', 'Ano', 'Order ID', 'Ship Date', 'Units Sold', 'Unit Price',\n",
    "       'Unit Cost', 'Total Revenue', 'Total Cost', 'Total Profit', 'Margin']\n",
    "\n",
    "final_sample = final_sample[cols] #Organizando a ordem das colunas\n",
    "final_sample.head()"
   ]
  },
  {
   "cell_type": "code",
   "execution_count": 190,
   "id": "eff2de03",
   "metadata": {
    "scrolled": true
   },
   "outputs": [
    {
     "data": {
      "text/plain": [
       "Ano\n",
       "2015    9.845038e+08\n",
       "2012    9.036474e+08\n",
       "2013    9.028807e+08\n",
       "2014    8.563977e+08\n",
       "2016    8.553198e+08\n",
       "2011    8.376222e+08\n",
       "2010    8.177654e+08\n",
       "2017    4.705522e+08\n",
       "Name: Total Revenue, dtype: float64"
      ]
     },
     "execution_count": 190,
     "metadata": {},
     "output_type": "execute_result"
    }
   ],
   "source": [
    "revenue_per_year = final_sample.groupby('Ano')['Total Revenue'].sum() \n",
    "\n",
    "revenue_per_year.sort_values(ascending=False)"
   ]
  },
  {
   "cell_type": "markdown",
   "id": "c0cc1272",
   "metadata": {},
   "source": [
    "#### The biggest Revenue was in 2015"
   ]
  },
  {
   "cell_type": "code",
   "execution_count": 193,
   "id": "fe992a1f",
   "metadata": {},
   "outputs": [
    {
     "data": {
      "text/plain": [
       "Ano\n",
       "2010    12.336758\n",
       "2011    12.636318\n",
       "2012    13.632370\n",
       "2013    13.620803\n",
       "2014    12.919564\n",
       "2015    14.852164\n",
       "2016    12.903302\n",
       "2017     7.098722\n",
       "Name: Total Revenue, dtype: float64"
      ]
     },
     "execution_count": 193,
     "metadata": {},
     "output_type": "execute_result"
    }
   ],
   "source": [
    "perc_revenue_year = final_sample.groupby('Ano')['Total Revenue'].sum() / final_sample['Total Revenue'].sum() * 100\n",
    "\n",
    "perc_revenue_year"
   ]
  }
 ],
 "metadata": {
  "kernelspec": {
   "display_name": "Python 3 (ipykernel)",
   "language": "python",
   "name": "python3"
  },
  "language_info": {
   "codemirror_mode": {
    "name": "ipython",
    "version": 3
   },
   "file_extension": ".py",
   "mimetype": "text/x-python",
   "name": "python",
   "nbconvert_exporter": "python",
   "pygments_lexer": "ipython3",
   "version": "3.9.7"
  }
 },
 "nbformat": 4,
 "nbformat_minor": 5
}
